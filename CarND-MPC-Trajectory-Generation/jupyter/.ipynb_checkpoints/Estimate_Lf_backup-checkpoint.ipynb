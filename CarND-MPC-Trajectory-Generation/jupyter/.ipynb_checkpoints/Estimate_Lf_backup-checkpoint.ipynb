{
 "cells": [
  {
   "cell_type": "code",
   "execution_count": 3,
   "metadata": {},
   "outputs": [],
   "source": [
    "%matplotlib inline\n",
    "import matplotlib.pyplot as plt\n",
    "from math import sin, cos, pi\n",
    "import numpy as np\n",
    "\n",
    "f_x = open(\"../build/output/x_vals.txt\")\n",
    "f_y = open(\"../build/output/y_vals.txt\")\n",
    "f_psi = open(\"../build/output/psi_vals.txt\")\n",
    "f_v = open(\"../build/output/v_vals.txt\")\n",
    "\n",
    "x_string = f_x.readlines()[1].split(\" \")[:-1]\n",
    "y_string = f_y.readlines()[1].split(\" \")[:-1]\n",
    "psi_string = f_psi.readlines()[1].split(\" \")[:-1]\n",
    "v_string = f_v.readlines()[1].split(\" \")[:-1]\n",
    "\n",
    "f_x.close()\n",
    "f_y.close()\n",
    "f_psi.close()\n",
    "f_v.close()\n",
    "# print(type(x_string), type(x_string[0]))\n",
    "\n",
    "x_data = [float(x) for x in x_string]\n",
    "# print(type(x_data), type(x_data[0]))\n",
    "y_data = [float(x) for x in y_string]\n",
    "psi_data = [float(x) for x in psi_string]\n",
    "v_data = [float(x)*0.44704 for x in v_string]\n",
    "\n",
    "# print(v_data)\n",
    "\n",
    "# dt4 = (x_data[5] - x_data[4]) / (v_data[4] * cos(psi_data[4]))\n",
    "# dt5 = (x_data[6] - x_data[5]) / (v_data[5] * cos(psi_data[5]))\n",
    "# dt6 = (x_data[7] - x_data[6]) / (v_data[6] * cos(psi_data[6]))\n",
    "\n",
    "# dt4_ = (y_data[5] - y_data[4]) / (v_data[4] * sin(psi_data[4]))\n",
    "# dt5_ = (y_data[6] - y_data[5]) / (v_data[5] * sin(psi_data[5]))\n",
    "# dt6_ = (y_data[7] - y_data[6]) / (v_data[6] * sin(psi_data[6]))\n",
    "\n",
    "\n",
    "# a4 = (v_data[5] - v_data[4]) / dt4\n",
    "# a5 = (v_data[6] - v_data[5]) / dt5\n",
    "# a6 = (v_data[7] - v_data[6]) / dt6\n",
    "\n",
    "# print(\"a4:\", a4,\"\\n\")\n",
    "# print(\"a5:\", a5,\"\\n\")\n",
    "# print(\"a6:\", a6,\"\\n\")\n",
    "# print(dt4-dt4_, dt5-dt5_, dt6-dt6_)\n",
    "\n",
    "## TODO\n",
    "# 用x和y反推平均值算dt，用vt和dt算at，delta已经有了，然后就可以进入优化问题的大坑了\n"
   ]
  },
  {
   "cell_type": "code",
   "execution_count": null,
   "metadata": {},
   "outputs": [],
   "source": [
    "# f_x_ = open(\"../build/output/x_vals.txt\")\n",
    "# f_y_ = open(\"../build/output/y_vals.txt\")\n",
    "# f_psi_ = open(\"../build/output/psi_vals.txt\")\n",
    "# f_v_ = open(\"../build/output/v_vals.txt\")\n",
    "\n",
    "# x_string = f_x.readlines()[1].split(\" \")[:-1]\n",
    "# y_string = f_y.readlines()[1].split(\" \")[:-1]\n",
    "# psi_string = f_psi.readlines()[1].split(\" \")[:-1]\n",
    "# v_string = f_v.readlines()[1].split(\" \")[:-1]\n",
    "\n",
    "# f_x.close()\n",
    "# f_y.close()\n",
    "# f_psi.close()\n",
    "# f_v.close()\n",
    "# # print(type(x_string), type(x_string[0]))\n",
    "\n",
    "# x_data = [float(x) for x in x_string]\n",
    "# # print(type(x_data), type(x_data[0]))\n",
    "# y_data = [float(x) for x in y_string]\n",
    "# psi_data = [float(x) for x in psi_string]\n",
    "# v_data = [float(x)*0.44704 for x in v_string]"
   ]
  },
  {
   "cell_type": "code",
   "execution_count": 2,
   "metadata": {},
   "outputs": [
    {
     "data": {
      "image/png": "[encoded data removed]",
      "text/plain": [
       "<Figure size 432x288 with 1 Axes>"
      ]
     },
     "metadata": {
      "needs_background": "light"
     },
     "output_type": "display_data"
    }
   ],
   "source": [
    "fig = plt.figure()\n",
    "plt.title('Reference Trajectory with delta=-2deg, throttle=0.5')\n",
    "plt.scatter(x_data[:-16], y_data[:-16], alpha=0.6)\n",
    "\n",
    "plt.xlim(100,300)\n",
    "plt.ylim(200,400)\n",
    "plt.xlabel('x')\n",
    "plt.ylabel('y')\n",
    "plt.show()\n"
   ]
  },
  {
   "cell_type": "markdown",
   "metadata": {},
   "source": []
  },
  {
   "cell_type": "code",
   "execution_count": 11,
   "metadata": {},
   "outputs": [],
   "source": [
    "from scipy.optimize import minimize\n",
    "\n",
    "e = 1e-10\n"
   ]
  },
  {
   "cell_type": "code",
   "execution_count": null,
   "metadata": {},
   "outputs": [],
   "source": []
  }
 ],
 "metadata": {
  "kernelspec": {
   "display_name": "Python 3",
   "language": "python",
   "name": "python3"
  },
  "language_info": {
   "codemirror_mode": {
    "name": "ipython",
    "version": 3
   },
   "file_extension": ".py",
   "mimetype": "text/x-python",
   "name": "python",
   "nbconvert_exporter": "python",
   "pygments_lexer": "ipython3",
   "version": "3.7.4"
  }
 },
 "nbformat": 4,
 "nbformat_minor": 2
}
